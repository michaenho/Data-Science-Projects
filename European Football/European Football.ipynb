{
 "cells": [
  {
   "cell_type": "markdown",
   "id": "2d696208-fc0a-4c00-b685-9a517ec0c574",
   "metadata": {},
   "source": [
    "# EUROPEAN FOOTBALL LEAGUES\n",
    "\n"
   ]
  },
  {
   "cell_type": "code",
   "execution_count": 158,
   "id": "d5d6cc0e-9672-4729-9721-8426bb06fa95",
   "metadata": {},
   "outputs": [],
   "source": [
    "import numpy as np\n",
    "import pandas as pd\n",
    "import matplotlib.pyplot as plt\n",
    "%matplotlib inline\n",
    "plt.style.use('fivethirtyeight')\n",
    "%reload_ext autoreload\n",
    "%autoreload 2"
   ]
  },
  {
   "cell_type": "code",
   "execution_count": 137,
   "id": "80e72c6e-f5e8-4889-993a-844e324f5d4d",
   "metadata": {},
   "outputs": [],
   "source": [
    "data = pd.read_csv(r\"C:\\Users\\Michaen Ho\\Downloads\\European_Rosters.csv\")"
   ]
  },
  {
   "cell_type": "code",
   "execution_count": 138,
   "id": "ee911eff-3bdb-4dff-bb0d-358a7f782d1a",
   "metadata": {},
   "outputs": [
    {
     "data": {
      "text/html": [
       "<div>\n",
       "<style scoped>\n",
       "    .dataframe tbody tr th:only-of-type {\n",
       "        vertical-align: middle;\n",
       "    }\n",
       "\n",
       "    .dataframe tbody tr th {\n",
       "        vertical-align: top;\n",
       "    }\n",
       "\n",
       "    .dataframe thead th {\n",
       "        text-align: right;\n",
       "    }\n",
       "</style>\n",
       "<table border=\"1\" class=\"dataframe\">\n",
       "  <thead>\n",
       "    <tr style=\"text-align: right;\">\n",
       "      <th></th>\n",
       "      <th>FullName</th>\n",
       "      <th>PlayerName</th>\n",
       "      <th>Affiliation</th>\n",
       "      <th>League</th>\n",
       "      <th>Jersey</th>\n",
       "      <th>Birth Date</th>\n",
       "      <th>Age</th>\n",
       "      <th>birthPlace</th>\n",
       "      <th>Height (meters)</th>\n",
       "      <th>Citizenship 1</th>\n",
       "      <th>...</th>\n",
       "      <th>Youth Club 7</th>\n",
       "      <th>nationality</th>\n",
       "      <th>Games Played</th>\n",
       "      <th>Market Value (Euros)</th>\n",
       "      <th>Last Updated Date</th>\n",
       "      <th>Accumulated Transfer Sums (Euros)</th>\n",
       "      <th>Highest Market Value (Euros)</th>\n",
       "      <th>Highest Market Value Date</th>\n",
       "      <th>NationalTeamCaps</th>\n",
       "      <th>MostRecentInjury</th>\n",
       "    </tr>\n",
       "  </thead>\n",
       "  <tbody>\n",
       "    <tr>\n",
       "      <th>0</th>\n",
       "      <td>Anthony Mbu Agogo Modeste</td>\n",
       "      <td>Anthony Modeste</td>\n",
       "      <td>1. FC Koln</td>\n",
       "      <td>Bundesliga</td>\n",
       "      <td>#27</td>\n",
       "      <td>4/14/1988</td>\n",
       "      <td>31</td>\n",
       "      <td>Cannes</td>\n",
       "      <td>1.87</td>\n",
       "      <td>France</td>\n",
       "      <td>...</td>\n",
       "      <td>NaN</td>\n",
       "      <td>France</td>\n",
       "      <td>1</td>\n",
       "      <td>7000000.0</td>\n",
       "      <td>Last update: Jun 12, 2019</td>\n",
       "      <td>45700000</td>\n",
       "      <td>20000000.0</td>\n",
       "      <td>6/19/2017</td>\n",
       "      <td>16</td>\n",
       "      <td>NaN</td>\n",
       "    </tr>\n",
       "    <tr>\n",
       "      <th>1</th>\n",
       "      <td>NaN</td>\n",
       "      <td>Benno Schmitz</td>\n",
       "      <td>1. FC Koln</td>\n",
       "      <td>Bundesliga</td>\n",
       "      <td>#2</td>\n",
       "      <td>11/17/1994</td>\n",
       "      <td>25</td>\n",
       "      <td>München</td>\n",
       "      <td>1.82</td>\n",
       "      <td>Germany</td>\n",
       "      <td>...</td>\n",
       "      <td>NaN</td>\n",
       "      <td>Germany</td>\n",
       "      <td>0</td>\n",
       "      <td>1000000.0</td>\n",
       "      <td>Last update: Jun 12, 2019</td>\n",
       "      <td>1000000</td>\n",
       "      <td>1750000.0</td>\n",
       "      <td>3/22/2017</td>\n",
       "      <td>11</td>\n",
       "      <td>NaN</td>\n",
       "    </tr>\n",
       "    <tr>\n",
       "      <th>2</th>\n",
       "      <td>Birger Danny Verstraete</td>\n",
       "      <td>Birger Verstraete</td>\n",
       "      <td>1. FC Koln</td>\n",
       "      <td>Bundesliga</td>\n",
       "      <td>#8</td>\n",
       "      <td>4/16/1994</td>\n",
       "      <td>25</td>\n",
       "      <td>Oostende</td>\n",
       "      <td>1.75</td>\n",
       "      <td>Belgium</td>\n",
       "      <td>...</td>\n",
       "      <td>NaN</td>\n",
       "      <td>Belgium</td>\n",
       "      <td>0</td>\n",
       "      <td>4000000.0</td>\n",
       "      <td>Last update: Jun 10, 2019</td>\n",
       "      <td>4850000</td>\n",
       "      <td>4000000.0</td>\n",
       "      <td>9/11/2018</td>\n",
       "      <td>1</td>\n",
       "      <td>NaN</td>\n",
       "    </tr>\n",
       "    <tr>\n",
       "      <th>3</th>\n",
       "      <td>Brady Canfield Scott</td>\n",
       "      <td>Brady Scott</td>\n",
       "      <td>1. FC Koln</td>\n",
       "      <td>Bundesliga</td>\n",
       "      <td>#31</td>\n",
       "      <td>6/30/1999</td>\n",
       "      <td>20</td>\n",
       "      <td>Petaluma, California</td>\n",
       "      <td>1.87</td>\n",
       "      <td>United States</td>\n",
       "      <td>...</td>\n",
       "      <td>NaN</td>\n",
       "      <td>United States</td>\n",
       "      <td>14</td>\n",
       "      <td>100000.0</td>\n",
       "      <td>Last update: Jun 12, 2019</td>\n",
       "      <td>0</td>\n",
       "      <td>100000.0</td>\n",
       "      <td>8/3/2018</td>\n",
       "      <td>0</td>\n",
       "      <td>NaN</td>\n",
       "    </tr>\n",
       "    <tr>\n",
       "      <th>4</th>\n",
       "      <td>NaN</td>\n",
       "      <td>Christian Clemens</td>\n",
       "      <td>1. FC Koln</td>\n",
       "      <td>Bundesliga</td>\n",
       "      <td>#17</td>\n",
       "      <td>8/4/1991</td>\n",
       "      <td>28</td>\n",
       "      <td>Köln</td>\n",
       "      <td>1.79</td>\n",
       "      <td>Germany</td>\n",
       "      <td>...</td>\n",
       "      <td>NaN</td>\n",
       "      <td>Germany</td>\n",
       "      <td>15</td>\n",
       "      <td>1750000.0</td>\n",
       "      <td>Last update: Jun 12, 2019</td>\n",
       "      <td>7950000</td>\n",
       "      <td>3500000.0</td>\n",
       "      <td>6/29/2013</td>\n",
       "      <td>5</td>\n",
       "      <td>NaN</td>\n",
       "    </tr>\n",
       "  </tbody>\n",
       "</table>\n",
       "<p>5 rows × 35 columns</p>\n",
       "</div>"
      ],
      "text/plain": [
       "                    FullName         PlayerName Affiliation      League  \\\n",
       "0  Anthony Mbu Agogo Modeste    Anthony Modeste  1. FC Koln  Bundesliga   \n",
       "1                        NaN      Benno Schmitz  1. FC Koln  Bundesliga   \n",
       "2    Birger Danny Verstraete  Birger Verstraete  1. FC Koln  Bundesliga   \n",
       "3       Brady Canfield Scott        Brady Scott  1. FC Koln  Bundesliga   \n",
       "4                        NaN  Christian Clemens  1. FC Koln  Bundesliga   \n",
       "\n",
       "  Jersey  Birth Date  Age            birthPlace  Height (meters)  \\\n",
       "0    #27   4/14/1988   31                Cannes             1.87   \n",
       "1     #2  11/17/1994   25               München             1.82   \n",
       "2     #8   4/16/1994   25              Oostende             1.75   \n",
       "3    #31   6/30/1999   20  Petaluma, California             1.87   \n",
       "4    #17    8/4/1991   28                  Köln             1.79   \n",
       "\n",
       "   Citizenship 1  ... Youth Club 7    nationality Games Played  \\\n",
       "0         France  ...          NaN         France            1   \n",
       "1        Germany  ...          NaN        Germany            0   \n",
       "2        Belgium  ...          NaN        Belgium            0   \n",
       "3  United States  ...          NaN  United States           14   \n",
       "4        Germany  ...          NaN        Germany           15   \n",
       "\n",
       "  Market Value (Euros)          Last Updated Date  \\\n",
       "0            7000000.0  Last update: Jun 12, 2019   \n",
       "1            1000000.0  Last update: Jun 12, 2019   \n",
       "2            4000000.0  Last update: Jun 10, 2019   \n",
       "3             100000.0  Last update: Jun 12, 2019   \n",
       "4            1750000.0  Last update: Jun 12, 2019   \n",
       "\n",
       "  Accumulated Transfer Sums (Euros) Highest Market Value (Euros)  \\\n",
       "0                          45700000                   20000000.0   \n",
       "1                           1000000                    1750000.0   \n",
       "2                           4850000                    4000000.0   \n",
       "3                                 0                     100000.0   \n",
       "4                           7950000                    3500000.0   \n",
       "\n",
       "  Highest Market Value Date NationalTeamCaps MostRecentInjury  \n",
       "0                 6/19/2017               16              NaN  \n",
       "1                 3/22/2017               11              NaN  \n",
       "2                 9/11/2018                1              NaN  \n",
       "3                  8/3/2018                0              NaN  \n",
       "4                 6/29/2013                5              NaN  \n",
       "\n",
       "[5 rows x 35 columns]"
      ]
     },
     "execution_count": 138,
     "metadata": {},
     "output_type": "execute_result"
    }
   ],
   "source": [
    "data.head()"
   ]
  },
  {
   "cell_type": "code",
   "execution_count": 139,
   "id": "8c3a4c2a-2f54-419a-a0df-9fdfa142add9",
   "metadata": {},
   "outputs": [
    {
     "data": {
      "text/plain": [
       "(4308, 35)"
      ]
     },
     "execution_count": 139,
     "metadata": {},
     "output_type": "execute_result"
    }
   ],
   "source": [
    "data.shape"
   ]
  },
  {
   "cell_type": "code",
   "execution_count": 140,
   "id": "aa917ed8-ec74-477f-baa0-996bc4691bbd",
   "metadata": {},
   "outputs": [
    {
     "data": {
      "text/plain": [
       "0               Bundesliga\n",
       "62                 Serie A\n",
       "87              Eredivisie\n",
       "143           Premier Liga\n",
       "170                 LaLiga\n",
       "195         Premier League\n",
       "441               Liga NOS\n",
       "841     Jupiler Pro League\n",
       "1006               Ligue 1\n",
       "Name: League, dtype: object"
      ]
     },
     "execution_count": 140,
     "metadata": {},
     "output_type": "execute_result"
    }
   ],
   "source": [
    "types = data.drop_duplicates(subset = 'League', keep = 'first')\n",
    "types['League']"
   ]
  },
  {
   "cell_type": "code",
   "execution_count": 152,
   "id": "318bc60a-e78b-49e6-8c13-093b1c7c10df",
   "metadata": {},
   "outputs": [],
   "source": [
    "bundesliga = data[data['League'] == 'Bundesliga']\n",
    "bundesliga_mean = bundesliga['Market Value (Euros)'].mean()\n",
    "\n",
    "serie_a = data[data['League'] == 'Serie A']\n",
    "serie_a_mean = serie_a['Market Value (Euros)'].mean()\n",
    "\n",
    "eredivisie = data[data['League'] == 'Eredivisie']\n",
    "eredivisie_mean = eredivisie['Market Value (Euros)'].mean()\n",
    "\n",
    "premier_liga = data[data['League'] == 'Premier Liga']\n",
    "premier_liga_mean = premier_liga['Market Value (Euros)'].mean()\n",
    "\n",
    "la_liga = data[data['League'] == 'LaLiga']\n",
    "la_liga_mean = la_liga['Market Value (Euros)'].mean()\n",
    "\n",
    "premier_league = data[data['League'] == 'Premier League']\n",
    "premier_league_mean = premier_league['Market Value (Euros)'].mean()\n",
    "\n",
    "liga_nos = data[data['League'] == 'Liga NOS']\n",
    "liga_nos_mean = liga_nos['Market Value (Euros)'].mean()\n",
    "\n",
    "jupiler_pro_league = data[data['League'] == 'Jupiler Pro League']\n",
    "jupiler_pro_league_mean = jupiler_pro_league['Market Value (Euros)'].mean()\n",
    "\n",
    "ligue1 = data[data['League'] == 'Ligue 1']\n",
    "ligue1_mean = ligue1['Market Value (Euros)'].mean()"
   ]
  },
  {
   "cell_type": "code",
   "execution_count": 153,
   "id": "3120a3b4-f875-4649-999f-88617303a9f5",
   "metadata": {},
   "outputs": [],
   "source": [
    "leagues = ['Premier League', 'La Liga', 'Serie A', 'Bundesliga', 'Ligue1', 'Premier Liga', 'Liga NOS', 'Jupiler Pro League', 'Eredivisie']\n",
    "mean_market_values = [premier_league_mean,la_liga_mean,serie_a_mean,bundesliga_mean,ligue1_mean,premier_liga_mean,liga_nos_mean,jupiler_pro_league_mean,eredivisie_mean]\n"
   ]
  },
  {
   "cell_type": "code",
   "execution_count": 154,
   "id": "7f0b7521-f4cc-4301-8383-632788946a3a",
   "metadata": {},
   "outputs": [
    {
     "data": {
      "text/plain": [
       "Text(0.5, 1.0, 'Average Player Market Values In European Football Leagues')"
      ]
     },
     "execution_count": 154,
     "metadata": {},
     "output_type": "execute_result"
    },
    {
     "data": {
      "image/png": "[encoded data removed]",
      "text/plain": [
       "<Figure size 864x576 with 1 Axes>"
      ]
     },
     "metadata": {},
     "output_type": "display_data"
    }
   ],
   "source": [
    "chart = plt.figure(figsize = (12,8))\n",
    "plt.bar(leagues, mean_market_values)\n",
    "plt.xlabel('Leagues')\n",
    "plt.ylabel('Average Player Market Values')\n",
    "plt.tight_layout()\n",
    "plt.title('Average Player Market Values In European Football Leagues')\n",
    "\n",
    "\n"
   ]
  },
  {
   "cell_type": "code",
   "execution_count": 155,
   "id": "59b90de3-6855-435d-8335-f4a54c795a1d",
   "metadata": {},
   "outputs": [],
   "source": [
    "bundesliga = data[data['League'] == 'Bundesliga']\n",
    "bundesliga_mean = bundesliga['Age'].mean()\n",
    "\n",
    "serie_a = data[data['League'] == 'Serie A']\n",
    "serie_a_mean = serie_a['Age'].mean()\n",
    "\n",
    "eredivisie = data[data['League'] == 'Eredivisie']\n",
    "eredivisie_mean = eredivisie['Age'].mean()\n",
    "\n",
    "premier_liga = data[data['League'] == 'Premier Liga']\n",
    "premier_liga_mean = premier_liga['Age'].mean()\n",
    "\n",
    "la_liga = data[data['League'] == 'LaLiga']\n",
    "la_liga_mean = la_liga['Age'].mean()\n",
    "\n",
    "premier_league = data[data['League'] == 'Premier League']\n",
    "premier_league_mean = premier_league['Age'].mean()\n",
    "\n",
    "liga_nos = data[data['League'] == 'Liga NOS']\n",
    "liga_nos_mean = liga_nos['Age'].mean()\n",
    "\n",
    "jupiler_pro_league = data[data['League'] == 'Jupiler Pro League']\n",
    "jupiler_pro_league_mean = jupiler_pro_league['Age'].mean()\n",
    "\n",
    "ligue1 = data[data['League'] == 'Ligue 1']\n",
    "ligue1_mean = ligue1['Age'].mean()"
   ]
  },
  {
   "cell_type": "code",
   "execution_count": 156,
   "id": "da1458f7-500d-444f-a1d5-f60b0c4a49cc",
   "metadata": {},
   "outputs": [],
   "source": [
    "leagues = ['La Liga', 'Premier League', 'Serie A', 'Premier Liga', 'Liga NOS', 'Bundesliga', 'Ligue1',  'Jupiler Pro League', 'Eredivisie']\n",
    "mean_market_values = [la_liga_mean,premier_league_mean,serie_a_mean,premier_liga_mean,liga_nos_mean,bundesliga_mean,ligue1_mean,jupiler_pro_league_mean,eredivisie_mean]\n"
   ]
  },
  {
   "cell_type": "markdown",
   "id": "bde8319f-a940-4275-9301-38a0dfe497f3",
   "metadata": {},
   "source": [
    "chart = plt.figure(figsize = (12,8))\n",
    "plt.bar(leagues, mean_market_values)\n",
    "plt.xlabel('Leagues')\n",
    "plt.ylabel('Average Age')\n",
    "plt.tight_layout()\n",
    "plt.ylim(23,27)\n",
    "plt.title('Average Age Of Players In European Football Leagues')\n"
   ]
  }
 ],
 "metadata": {
  "kernelspec": {
   "display_name": "Python 3 (ipykernel)",
   "language": "python",
   "name": "python3"
  },
  "language_info": {
   "codemirror_mode": {
    "name": "ipython",
    "version": 3
   },
   "file_extension": ".py",
   "mimetype": "text/x-python",
   "name": "python",
   "nbconvert_exporter": "python",
   "pygments_lexer": "ipython3",
   "version": "3.9.12"
  }
 },
 "nbformat": 4,
 "nbformat_minor": 5
}
