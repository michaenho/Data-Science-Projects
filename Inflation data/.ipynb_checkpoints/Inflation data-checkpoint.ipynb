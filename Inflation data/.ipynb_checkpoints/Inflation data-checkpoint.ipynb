{
 "cells": [
  {
   "cell_type": "markdown",
   "id": "a5293acc-3658-46c3-82e0-3621d3c4f6c6",
   "metadata": {},
   "source": [
    "# Inflation!"
   ]
  },
  {
   "cell_type": "code",
   "execution_count": 2,
   "id": "bfe67cda-ac12-4969-baf2-6b978717875e",
   "metadata": {},
   "outputs": [],
   "source": [
    "import numpy as np\n",
    "import pandas as pd\n",
    "import matplotlib.pyplot as plt\n",
    "import seaborn as sns\n",
    "\n",
    "sns.set_style('darkgrid')\n",
    "%matplotlib inline\n",
    "\n",
    "# Auto reloads notebook when changes are made\n",
    "%reload_ext autoreload\n",
    "%autoreload 2"
   ]
  },
  {
   "cell_type": "markdown",
   "id": "b3242139-3f28-40ad-a0e1-8964cd61a625",
   "metadata": {},
   "source": [
    "**The csv file can be obtained from kaggle (credit goes to HTREHRTHTR) which shows the inflation rate of many countries and regions over many years**"
   ]
  },
  {
   "cell_type": "code",
   "execution_count": 3,
   "id": "e3657423-9089-4114-9f31-c3383bfdfc6f",
   "metadata": {},
   "outputs": [],
   "source": [
    "data = pd.read_csv(r\"C:\\Users\\Michaen Ho\\anaconda3\\Data-Science-Projects\\Data-Science-Projects\\Inflation data\\inflation-consumer.csv\")\n"
   ]
  },
  {
   "cell_type": "code",
   "execution_count": 4,
   "id": "ea772141-b7fc-4f35-b5e4-6d2d3abb951d",
   "metadata": {},
   "outputs": [
    {
     "data": {
      "text/html": [
       "<div>\n",
       "<style scoped>\n",
       "    .dataframe tbody tr th:only-of-type {\n",
       "        vertical-align: middle;\n",
       "    }\n",
       "\n",
       "    .dataframe tbody tr th {\n",
       "        vertical-align: top;\n",
       "    }\n",
       "\n",
       "    .dataframe thead th {\n",
       "        text-align: right;\n",
       "    }\n",
       "</style>\n",
       "<table border=\"1\" class=\"dataframe\">\n",
       "  <thead>\n",
       "    <tr style=\"text-align: right;\">\n",
       "      <th></th>\n",
       "      <th>Country</th>\n",
       "      <th>Country Code</th>\n",
       "      <th>Year</th>\n",
       "      <th>Inflation</th>\n",
       "    </tr>\n",
       "  </thead>\n",
       "  <tbody>\n",
       "    <tr>\n",
       "      <th>0</th>\n",
       "      <td>Arab World</td>\n",
       "      <td>ARB</td>\n",
       "      <td>1969</td>\n",
       "      <td>1.303790</td>\n",
       "    </tr>\n",
       "    <tr>\n",
       "      <th>1</th>\n",
       "      <td>Arab World</td>\n",
       "      <td>ARB</td>\n",
       "      <td>1970</td>\n",
       "      <td>2.602241</td>\n",
       "    </tr>\n",
       "    <tr>\n",
       "      <th>2</th>\n",
       "      <td>Arab World</td>\n",
       "      <td>ARB</td>\n",
       "      <td>1971</td>\n",
       "      <td>6.884719</td>\n",
       "    </tr>\n",
       "    <tr>\n",
       "      <th>3</th>\n",
       "      <td>Arab World</td>\n",
       "      <td>ARB</td>\n",
       "      <td>1972</td>\n",
       "      <td>2.496081</td>\n",
       "    </tr>\n",
       "    <tr>\n",
       "      <th>4</th>\n",
       "      <td>Arab World</td>\n",
       "      <td>ARB</td>\n",
       "      <td>1973</td>\n",
       "      <td>11.555281</td>\n",
       "    </tr>\n",
       "    <tr>\n",
       "      <th>5</th>\n",
       "      <td>Arab World</td>\n",
       "      <td>ARB</td>\n",
       "      <td>1974</td>\n",
       "      <td>26.922679</td>\n",
       "    </tr>\n",
       "    <tr>\n",
       "      <th>6</th>\n",
       "      <td>Arab World</td>\n",
       "      <td>ARB</td>\n",
       "      <td>1975</td>\n",
       "      <td>5.599144</td>\n",
       "    </tr>\n",
       "    <tr>\n",
       "      <th>7</th>\n",
       "      <td>Arab World</td>\n",
       "      <td>ARB</td>\n",
       "      <td>1976</td>\n",
       "      <td>7.524528</td>\n",
       "    </tr>\n",
       "    <tr>\n",
       "      <th>8</th>\n",
       "      <td>Arab World</td>\n",
       "      <td>ARB</td>\n",
       "      <td>1977</td>\n",
       "      <td>9.724012</td>\n",
       "    </tr>\n",
       "    <tr>\n",
       "      <th>9</th>\n",
       "      <td>Arab World</td>\n",
       "      <td>ARB</td>\n",
       "      <td>1978</td>\n",
       "      <td>7.441072</td>\n",
       "    </tr>\n",
       "  </tbody>\n",
       "</table>\n",
       "</div>"
      ],
      "text/plain": [
       "      Country Country Code  Year  Inflation\n",
       "0  Arab World          ARB  1969   1.303790\n",
       "1  Arab World          ARB  1970   2.602241\n",
       "2  Arab World          ARB  1971   6.884719\n",
       "3  Arab World          ARB  1972   2.496081\n",
       "4  Arab World          ARB  1973  11.555281\n",
       "5  Arab World          ARB  1974  26.922679\n",
       "6  Arab World          ARB  1975   5.599144\n",
       "7  Arab World          ARB  1976   7.524528\n",
       "8  Arab World          ARB  1977   9.724012\n",
       "9  Arab World          ARB  1978   7.441072"
      ]
     },
     "execution_count": 4,
     "metadata": {},
     "output_type": "execute_result"
    }
   ],
   "source": [
    "data.head(10)"
   ]
  },
  {
   "cell_type": "code",
   "execution_count": 5,
   "id": "ca88f29c-055e-4ff3-8f0f-1400850e5809",
   "metadata": {},
   "outputs": [
    {
     "data": {
      "text/plain": [
       "Index(['Country', 'Country Code', 'Year', 'Inflation'], dtype='object')"
      ]
     },
     "execution_count": 5,
     "metadata": {},
     "output_type": "execute_result"
    }
   ],
   "source": [
    "data.columns  #check the column headers"
   ]
  },
  {
   "cell_type": "code",
   "execution_count": 6,
   "id": "2fe1229e-4116-447a-acb8-b0c375f48445",
   "metadata": {},
   "outputs": [
    {
     "data": {
      "text/plain": [
       "Country          object\n",
       "Country Code     object\n",
       "Year              int64\n",
       "Inflation       float64\n",
       "dtype: object"
      ]
     },
     "execution_count": 6,
     "metadata": {},
     "output_type": "execute_result"
    }
   ],
   "source": [
    "data.dtypes  #check if the types are appropriate(convert if need to)"
   ]
  },
  {
   "cell_type": "code",
   "execution_count": 7,
   "id": "685f0dd2-2bf8-4ca1-8d3c-ad4ab011c871",
   "metadata": {},
   "outputs": [
    {
     "data": {
      "text/plain": [
       "(11014, 4)"
      ]
     },
     "execution_count": 7,
     "metadata": {},
     "output_type": "execute_result"
    }
   ],
   "source": [
    "data.shape"
   ]
  },
  {
   "cell_type": "code",
   "execution_count": 8,
   "id": "047593b9-819c-4dce-92d3-a474a665e991",
   "metadata": {},
   "outputs": [
    {
     "data": {
      "text/html": [
       "<div>\n",
       "<style scoped>\n",
       "    .dataframe tbody tr th:only-of-type {\n",
       "        vertical-align: middle;\n",
       "    }\n",
       "\n",
       "    .dataframe tbody tr th {\n",
       "        vertical-align: top;\n",
       "    }\n",
       "\n",
       "    .dataframe thead th {\n",
       "        text-align: right;\n",
       "    }\n",
       "</style>\n",
       "<table border=\"1\" class=\"dataframe\">\n",
       "  <thead>\n",
       "    <tr style=\"text-align: right;\">\n",
       "      <th></th>\n",
       "      <th>Year</th>\n",
       "      <th>Inflation</th>\n",
       "    </tr>\n",
       "  </thead>\n",
       "  <tbody>\n",
       "    <tr>\n",
       "      <th>count</th>\n",
       "      <td>11014.000000</td>\n",
       "      <td>11014.000000</td>\n",
       "    </tr>\n",
       "    <tr>\n",
       "      <th>mean</th>\n",
       "      <td>1992.209551</td>\n",
       "      <td>27.776900</td>\n",
       "    </tr>\n",
       "    <tr>\n",
       "      <th>std</th>\n",
       "      <td>15.302514</td>\n",
       "      <td>384.965429</td>\n",
       "    </tr>\n",
       "    <tr>\n",
       "      <th>min</th>\n",
       "      <td>1961.000000</td>\n",
       "      <td>-98.703831</td>\n",
       "    </tr>\n",
       "    <tr>\n",
       "      <th>25%</th>\n",
       "      <td>1980.000000</td>\n",
       "      <td>2.502159</td>\n",
       "    </tr>\n",
       "    <tr>\n",
       "      <th>50%</th>\n",
       "      <td>1994.000000</td>\n",
       "      <td>5.680057</td>\n",
       "    </tr>\n",
       "    <tr>\n",
       "      <th>75%</th>\n",
       "      <td>2005.000000</td>\n",
       "      <td>10.827582</td>\n",
       "    </tr>\n",
       "    <tr>\n",
       "      <th>max</th>\n",
       "      <td>2016.000000</td>\n",
       "      <td>26762.018330</td>\n",
       "    </tr>\n",
       "  </tbody>\n",
       "</table>\n",
       "</div>"
      ],
      "text/plain": [
       "               Year     Inflation\n",
       "count  11014.000000  11014.000000\n",
       "mean    1992.209551     27.776900\n",
       "std       15.302514    384.965429\n",
       "min     1961.000000    -98.703831\n",
       "25%     1980.000000      2.502159\n",
       "50%     1994.000000      5.680057\n",
       "75%     2005.000000     10.827582\n",
       "max     2016.000000  26762.018330"
      ]
     },
     "execution_count": 8,
     "metadata": {},
     "output_type": "execute_result"
    }
   ],
   "source": [
    "data.describe()"
   ]
  },
  {
   "cell_type": "code",
   "execution_count": 9,
   "id": "d02a65d0-c9b2-4a6f-ade0-26b6e5da2430",
   "metadata": {},
   "outputs": [
    {
     "data": {
      "text/html": [
       "<div>\n",
       "<style scoped>\n",
       "    .dataframe tbody tr th:only-of-type {\n",
       "        vertical-align: middle;\n",
       "    }\n",
       "\n",
       "    .dataframe tbody tr th {\n",
       "        vertical-align: top;\n",
       "    }\n",
       "\n",
       "    .dataframe thead th {\n",
       "        text-align: right;\n",
       "    }\n",
       "</style>\n",
       "<table border=\"1\" class=\"dataframe\">\n",
       "  <thead>\n",
       "    <tr style=\"text-align: right;\">\n",
       "      <th></th>\n",
       "      <th>Country_Region</th>\n",
       "      <th>Year</th>\n",
       "      <th>Inflation Rate</th>\n",
       "    </tr>\n",
       "  </thead>\n",
       "  <tbody>\n",
       "    <tr>\n",
       "      <th>0</th>\n",
       "      <td>Arab World</td>\n",
       "      <td>1969</td>\n",
       "      <td>1.303790</td>\n",
       "    </tr>\n",
       "    <tr>\n",
       "      <th>1</th>\n",
       "      <td>Arab World</td>\n",
       "      <td>1970</td>\n",
       "      <td>2.602241</td>\n",
       "    </tr>\n",
       "    <tr>\n",
       "      <th>2</th>\n",
       "      <td>Arab World</td>\n",
       "      <td>1971</td>\n",
       "      <td>6.884719</td>\n",
       "    </tr>\n",
       "    <tr>\n",
       "      <th>3</th>\n",
       "      <td>Arab World</td>\n",
       "      <td>1972</td>\n",
       "      <td>2.496081</td>\n",
       "    </tr>\n",
       "    <tr>\n",
       "      <th>4</th>\n",
       "      <td>Arab World</td>\n",
       "      <td>1973</td>\n",
       "      <td>11.555281</td>\n",
       "    </tr>\n",
       "    <tr>\n",
       "      <th>5</th>\n",
       "      <td>Arab World</td>\n",
       "      <td>1974</td>\n",
       "      <td>26.922679</td>\n",
       "    </tr>\n",
       "    <tr>\n",
       "      <th>6</th>\n",
       "      <td>Arab World</td>\n",
       "      <td>1975</td>\n",
       "      <td>5.599144</td>\n",
       "    </tr>\n",
       "    <tr>\n",
       "      <th>7</th>\n",
       "      <td>Arab World</td>\n",
       "      <td>1976</td>\n",
       "      <td>7.524528</td>\n",
       "    </tr>\n",
       "    <tr>\n",
       "      <th>8</th>\n",
       "      <td>Arab World</td>\n",
       "      <td>1977</td>\n",
       "      <td>9.724012</td>\n",
       "    </tr>\n",
       "    <tr>\n",
       "      <th>9</th>\n",
       "      <td>Arab World</td>\n",
       "      <td>1978</td>\n",
       "      <td>7.441072</td>\n",
       "    </tr>\n",
       "  </tbody>\n",
       "</table>\n",
       "</div>"
      ],
      "text/plain": [
       "  Country_Region  Year  Inflation Rate\n",
       "0     Arab World  1969        1.303790\n",
       "1     Arab World  1970        2.602241\n",
       "2     Arab World  1971        6.884719\n",
       "3     Arab World  1972        2.496081\n",
       "4     Arab World  1973       11.555281\n",
       "5     Arab World  1974       26.922679\n",
       "6     Arab World  1975        5.599144\n",
       "7     Arab World  1976        7.524528\n",
       "8     Arab World  1977        9.724012\n",
       "9     Arab World  1978        7.441072"
      ]
     },
     "execution_count": 9,
     "metadata": {},
     "output_type": "execute_result"
    }
   ],
   "source": [
    "data = data.drop(['Country Code'], axis = 1)  #drop irrelevant columns (remember axis=1 for columns)\n",
    "data = data.rename(columns={'Country':'Country_Region', 'Inflation':'Inflation Rate'})  #rename column headers (if rename index use index=\n",
    "data.head(10)"
   ]
  },
  {
   "cell_type": "code",
   "execution_count": 10,
   "id": "f661fb62-4c6a-4395-b16d-2b4311f2e26c",
   "metadata": {},
   "outputs": [
    {
     "name": "stdout",
     "output_type": "stream",
     "text": [
      "no.of duplicate rows:  (0, 3)\n"
     ]
    }
   ],
   "source": [
    "duplicate_row = data[data.duplicated()]\n",
    "print('no.of duplicate rows: ' , duplicate_row.shape)  #show the number of duplicate rows to remove them if there are any"
   ]
  },
  {
   "cell_type": "code",
   "execution_count": 11,
   "id": "7c4830a4-e8ca-4e52-8c39-0e1aff6c0432",
   "metadata": {},
   "outputs": [
    {
     "data": {
      "text/plain": [
       "Country_Region    11014\n",
       "Year              11014\n",
       "Inflation Rate    11014\n",
       "dtype: int64"
      ]
     },
     "execution_count": 11,
     "metadata": {},
     "output_type": "execute_result"
    }
   ],
   "source": [
    "data.count()  #count the number of non empty entries"
   ]
  },
  {
   "cell_type": "code",
   "execution_count": 12,
   "id": "500f5ce5-ca4c-4866-a3d3-e54990597554",
   "metadata": {},
   "outputs": [
    {
     "data": {
      "text/plain": [
       "Country_Region    0\n",
       "Year              0\n",
       "Inflation Rate    0\n",
       "dtype: int64"
      ]
     },
     "execution_count": 12,
     "metadata": {},
     "output_type": "execute_result"
    }
   ],
   "source": [
    "data.isnull().sum()  #shows the number of empty entries"
   ]
  },
  {
   "cell_type": "markdown",
   "id": "3420abc3-ef68-4e8a-8754-c5ce822939ae",
   "metadata": {},
   "source": [
    "**Below is the list of countries and regions found in the dataset**"
   ]
  },
  {
   "cell_type": "code",
   "execution_count": 13,
   "id": "da5ca8d9-8703-4f9d-ab91-433cd30b78b1",
   "metadata": {},
   "outputs": [
    {
     "data": {
      "text/plain": [
       "array(['Arab World', 'Caribbean small states',\n",
       "       'Central Europe and the Baltics', 'Early-demographic dividend',\n",
       "       'East Asia & Pacific',\n",
       "       'East Asia & Pacific (excluding high income)',\n",
       "       'East Asia & Pacific (IDA & IBRD countries)', 'Euro area',\n",
       "       'Europe & Central Asia',\n",
       "       'Europe & Central Asia (excluding high income)',\n",
       "       'Europe & Central Asia (IDA & IBRD countries)', 'European Union',\n",
       "       'Fragile and conflict affected situations',\n",
       "       'Heavily indebted poor countries (HIPC)', 'High income',\n",
       "       'IBRD only', 'IDA & IBRD total', 'IDA blend', 'IDA only',\n",
       "       'IDA total', 'Late-demographic dividend',\n",
       "       'Latin America & Caribbean',\n",
       "       'Latin America & Caribbean (excluding high income)',\n",
       "       'Latin America & the Caribbean (IDA & IBRD countries)',\n",
       "       'Least developed countries: UN classification',\n",
       "       'Low & middle income', 'Low income', 'Lower middle income',\n",
       "       'Middle East & North Africa',\n",
       "       'Middle East & North Africa (excluding high income)',\n",
       "       'Middle East & North Africa (IDA & IBRD countries)',\n",
       "       'Middle income', 'North America', 'OECD members',\n",
       "       'Other small states', 'Pacific island small states',\n",
       "       'Post-demographic dividend', 'Pre-demographic dividend',\n",
       "       'Small states', 'South Asia', 'South Asia (IDA & IBRD)',\n",
       "       'Sub-Saharan Africa', 'Sub-Saharan Africa (excluding high income)',\n",
       "       'Sub-Saharan Africa (IDA & IBRD countries)', 'Upper middle income',\n",
       "       'World', 'Afghanistan', 'Albania', 'Algeria', 'American Samoa',\n",
       "       'Andorra', 'Angola', 'Antigua and Barbuda', 'Argentina', 'Armenia',\n",
       "       'Aruba', 'Australia', 'Austria', 'Azerbaijan', 'Bahamas, The',\n",
       "       'Bahrain', 'Bangladesh', 'Barbados', 'Belarus', 'Belgium',\n",
       "       'Belize', 'Benin', 'Bermuda', 'Bhutan', 'Bolivia',\n",
       "       'Bosnia and Herzegovina', 'Botswana', 'Brazil',\n",
       "       'Brunei Darussalam', 'Bulgaria', 'Burkina Faso', 'Burundi',\n",
       "       'Cabo Verde', 'Cambodia', 'Cameroon', 'Canada', 'Cayman Islands',\n",
       "       'Central African Republic', 'Chad', 'Channel Islands', 'Chile',\n",
       "       'China', 'Colombia', 'Comoros', 'Congo, Dem. Rep.', 'Congo, Rep.',\n",
       "       'Costa Rica', \"Cote d'Ivoire\", 'Croatia', 'Cuba', 'Cyprus',\n",
       "       'Czech Republic', 'Denmark', 'Djibouti', 'Dominica',\n",
       "       'Dominican Republic', 'Ecuador', 'Egypt, Arab Rep.', 'El Salvador',\n",
       "       'Equatorial Guinea', 'Eritrea', 'Estonia', 'Ethiopia', 'Fiji',\n",
       "       'Finland', 'France', 'French Polynesia', 'Gabon', 'Gambia, The',\n",
       "       'Georgia', 'Germany', 'Ghana', 'Greece', 'Greenland', 'Grenada',\n",
       "       'Guam', 'Guatemala', 'Guinea', 'Guinea-Bissau', 'Guyana', 'Haiti',\n",
       "       'Honduras', 'Hong Kong SAR, China', 'Hungary', 'Iceland', 'India',\n",
       "       'Indonesia', 'Iran, Islamic Rep.', 'Iraq', 'Ireland',\n",
       "       'Isle of Man', 'Israel', 'Italy', 'Jamaica', 'Japan', 'Jordan',\n",
       "       'Kazakhstan', 'Kenya', 'Kiribati', 'Korea, Rep.', 'Kosovo',\n",
       "       'Kuwait', 'Kyrgyz Republic', 'Lao PDR', 'Latvia', 'Lebanon',\n",
       "       'Lesotho', 'Liberia', 'Libya', 'Liechtenstein', 'Lithuania',\n",
       "       'Luxembourg', 'Macao SAR, China', 'Macedonia, FYR', 'Madagascar',\n",
       "       'Malawi', 'Malaysia', 'Maldives', 'Mali', 'Malta',\n",
       "       'Marshall Islands', 'Mauritania', 'Mauritius', 'Mexico',\n",
       "       'Micronesia, Fed. Sts.', 'Moldova', 'Monaco', 'Mongolia',\n",
       "       'Montenegro', 'Morocco', 'Mozambique', 'Myanmar', 'Namibia',\n",
       "       'Nauru', 'Nepal', 'Netherlands', 'New Caledonia', 'New Zealand',\n",
       "       'Nicaragua', 'Niger', 'Nigeria', 'Northern Mariana Islands',\n",
       "       'Norway', 'Oman', 'Pakistan', 'Palau', 'Panama',\n",
       "       'Papua New Guinea', 'Paraguay', 'Peru', 'Philippines', 'Poland',\n",
       "       'Portugal', 'Puerto Rico', 'Qatar', 'Romania',\n",
       "       'Russian Federation', 'Rwanda', 'Samoa', 'San Marino',\n",
       "       'Sao Tome and Principe', 'Saudi Arabia', 'Senegal', 'Serbia',\n",
       "       'Seychelles', 'Sierra Leone', 'Singapore', 'Slovak Republic',\n",
       "       'Slovenia', 'Solomon Islands', 'Somalia', 'South Africa',\n",
       "       'South Sudan', 'Spain', 'Sri Lanka', 'St. Kitts and Nevis',\n",
       "       'St. Lucia', 'St. Vincent and the Grenadines', 'Sudan', 'Suriname',\n",
       "       'Swaziland', 'Sweden', 'Switzerland', 'Syrian Arab Republic',\n",
       "       'Tajikistan', 'Tanzania', 'Thailand', 'Timor-Leste', 'Togo',\n",
       "       'Tonga', 'Trinidad and Tobago', 'Tunisia', 'Turkey',\n",
       "       'Turkmenistan', 'Tuvalu', 'Uganda', 'Ukraine',\n",
       "       'United Arab Emirates', 'United Kingdom', 'United States',\n",
       "       'Uruguay', 'Uzbekistan', 'Vanuatu', 'Venezuela, RB', 'Vietnam',\n",
       "       'Virgin Islands (U.S.)', 'West Bank and Gaza', 'Yemen, Rep.',\n",
       "       'Zambia', 'Zimbabwe'], dtype=object)"
      ]
     },
     "execution_count": 13,
     "metadata": {},
     "output_type": "execute_result"
    }
   ],
   "source": [
    "data.Country_Region.unique()  "
   ]
  },
  {
   "cell_type": "markdown",
   "id": "7354aca0-efa7-40f0-97ae-f4e7f2228c62",
   "metadata": {},
   "source": [
    "### Compare the inflation rate of Singapore, Malaysia and Thailand from 2010 to 2016"
   ]
  },
  {
   "cell_type": "code",
   "execution_count": 14,
   "id": "594418d3-6b4e-4215-91d8-6d221e4ccde8",
   "metadata": {},
   "outputs": [
    {
     "data": {
      "text/html": [
       "<div>\n",
       "<style scoped>\n",
       "    .dataframe tbody tr th:only-of-type {\n",
       "        vertical-align: middle;\n",
       "    }\n",
       "\n",
       "    .dataframe tbody tr th {\n",
       "        vertical-align: top;\n",
       "    }\n",
       "\n",
       "    .dataframe thead th {\n",
       "        text-align: right;\n",
       "    }\n",
       "</style>\n",
       "<table border=\"1\" class=\"dataframe\">\n",
       "  <thead>\n",
       "    <tr style=\"text-align: right;\">\n",
       "      <th></th>\n",
       "      <th>Country_Region</th>\n",
       "      <th>Year</th>\n",
       "      <th>Inflation Rate</th>\n",
       "    </tr>\n",
       "  </thead>\n",
       "  <tbody>\n",
       "    <tr>\n",
       "      <th>7178</th>\n",
       "      <td>Malaysia</td>\n",
       "      <td>2010</td>\n",
       "      <td>7.711944</td>\n",
       "    </tr>\n",
       "    <tr>\n",
       "      <th>7179</th>\n",
       "      <td>Malaysia</td>\n",
       "      <td>2011</td>\n",
       "      <td>5.412408</td>\n",
       "    </tr>\n",
       "    <tr>\n",
       "      <th>7180</th>\n",
       "      <td>Malaysia</td>\n",
       "      <td>2012</td>\n",
       "      <td>0.999932</td>\n",
       "    </tr>\n",
       "    <tr>\n",
       "      <th>7181</th>\n",
       "      <td>Malaysia</td>\n",
       "      <td>2013</td>\n",
       "      <td>0.174474</td>\n",
       "    </tr>\n",
       "    <tr>\n",
       "      <th>7182</th>\n",
       "      <td>Malaysia</td>\n",
       "      <td>2014</td>\n",
       "      <td>2.467467</td>\n",
       "    </tr>\n",
       "    <tr>\n",
       "      <th>7183</th>\n",
       "      <td>Malaysia</td>\n",
       "      <td>2015</td>\n",
       "      <td>-0.374505</td>\n",
       "    </tr>\n",
       "    <tr>\n",
       "      <th>7184</th>\n",
       "      <td>Malaysia</td>\n",
       "      <td>2016</td>\n",
       "      <td>1.951206</td>\n",
       "    </tr>\n",
       "    <tr>\n",
       "      <th>9261</th>\n",
       "      <td>Singapore</td>\n",
       "      <td>2010</td>\n",
       "      <td>-0.045988</td>\n",
       "    </tr>\n",
       "    <tr>\n",
       "      <th>9262</th>\n",
       "      <td>Singapore</td>\n",
       "      <td>2011</td>\n",
       "      <td>1.233200</td>\n",
       "    </tr>\n",
       "    <tr>\n",
       "      <th>9263</th>\n",
       "      <td>Singapore</td>\n",
       "      <td>2012</td>\n",
       "      <td>0.360074</td>\n",
       "    </tr>\n",
       "    <tr>\n",
       "      <th>9264</th>\n",
       "      <td>Singapore</td>\n",
       "      <td>2013</td>\n",
       "      <td>-0.239013</td>\n",
       "    </tr>\n",
       "    <tr>\n",
       "      <th>9265</th>\n",
       "      <td>Singapore</td>\n",
       "      <td>2014</td>\n",
       "      <td>-0.409653</td>\n",
       "    </tr>\n",
       "    <tr>\n",
       "      <th>9266</th>\n",
       "      <td>Singapore</td>\n",
       "      <td>2015</td>\n",
       "      <td>2.538471</td>\n",
       "    </tr>\n",
       "    <tr>\n",
       "      <th>9267</th>\n",
       "      <td>Singapore</td>\n",
       "      <td>2016</td>\n",
       "      <td>-1.434629</td>\n",
       "    </tr>\n",
       "    <tr>\n",
       "      <th>10067</th>\n",
       "      <td>Thailand</td>\n",
       "      <td>2010</td>\n",
       "      <td>4.080972</td>\n",
       "    </tr>\n",
       "    <tr>\n",
       "      <th>10068</th>\n",
       "      <td>Thailand</td>\n",
       "      <td>2011</td>\n",
       "      <td>3.743108</td>\n",
       "    </tr>\n",
       "    <tr>\n",
       "      <th>10069</th>\n",
       "      <td>Thailand</td>\n",
       "      <td>2012</td>\n",
       "      <td>1.909544</td>\n",
       "    </tr>\n",
       "    <tr>\n",
       "      <th>10070</th>\n",
       "      <td>Thailand</td>\n",
       "      <td>2013</td>\n",
       "      <td>1.781058</td>\n",
       "    </tr>\n",
       "    <tr>\n",
       "      <th>10071</th>\n",
       "      <td>Thailand</td>\n",
       "      <td>2014</td>\n",
       "      <td>1.260850</td>\n",
       "    </tr>\n",
       "    <tr>\n",
       "      <th>10072</th>\n",
       "      <td>Thailand</td>\n",
       "      <td>2015</td>\n",
       "      <td>0.594264</td>\n",
       "    </tr>\n",
       "    <tr>\n",
       "      <th>10073</th>\n",
       "      <td>Thailand</td>\n",
       "      <td>2016</td>\n",
       "      <td>1.777944</td>\n",
       "    </tr>\n",
       "  </tbody>\n",
       "</table>\n",
       "</div>"
      ],
      "text/plain": [
       "      Country_Region  Year  Inflation Rate\n",
       "7178        Malaysia  2010        7.711944\n",
       "7179        Malaysia  2011        5.412408\n",
       "7180        Malaysia  2012        0.999932\n",
       "7181        Malaysia  2013        0.174474\n",
       "7182        Malaysia  2014        2.467467\n",
       "7183        Malaysia  2015       -0.374505\n",
       "7184        Malaysia  2016        1.951206\n",
       "9261       Singapore  2010       -0.045988\n",
       "9262       Singapore  2011        1.233200\n",
       "9263       Singapore  2012        0.360074\n",
       "9264       Singapore  2013       -0.239013\n",
       "9265       Singapore  2014       -0.409653\n",
       "9266       Singapore  2015        2.538471\n",
       "9267       Singapore  2016       -1.434629\n",
       "10067       Thailand  2010        4.080972\n",
       "10068       Thailand  2011        3.743108\n",
       "10069       Thailand  2012        1.909544\n",
       "10070       Thailand  2013        1.781058\n",
       "10071       Thailand  2014        1.260850\n",
       "10072       Thailand  2015        0.594264\n",
       "10073       Thailand  2016        1.777944"
      ]
     },
     "execution_count": 14,
     "metadata": {},
     "output_type": "execute_result"
    }
   ],
   "source": [
    "data_sgmyth = data.loc[(data['Country_Region'] == 'Singapore') | (data['Country_Region'] == 'Thailand') | (data['Country_Region'] == 'Malaysia')]\n",
    "data_recent_years = data_sgmyth.loc[data['Year'] >= 2010]\n",
    "data_recent_years\n",
    "#use boolean conditions so that we don't have to set index"
   ]
  },
  {
   "cell_type": "code",
   "execution_count": 15,
   "id": "6c9de7e2-edb7-469a-9057-cf2fbae120e2",
   "metadata": {},
   "outputs": [
    {
     "data": {
      "text/plain": [
       "Text(0, 0.5, 'Inflation Rate')"
      ]
     },
     "execution_count": 15,
     "metadata": {},
     "output_type": "execute_result"
    },
    {
     "data": {
      "image/png": "[encoded data removed]",
      "text/plain": [
       "<Figure size 432x288 with 1 Axes>"
      ]
     },
     "metadata": {
      "needs_background": "light"
     },
     "output_type": "display_data"
    }
   ],
   "source": [
    "sns.barplot(x = 'Year', y = 'Inflation Rate' , hue = 'Country_Region' , data = data_recent_years)\n",
    "plt.title('Inflation Rate from 2010 to 2016')\n",
    "plt.xlabel('Year')\n",
    "plt.ylabel('Inflation Rate')"
   ]
  },
  {
   "cell_type": "markdown",
   "id": "ffa60789-2926-467a-b36e-07a5407c3dcc",
   "metadata": {},
   "source": [
    "**From the bar chart, we can observe that inflation rate generally decreases over the years in these countries. Also, Singapore's inflation rate is the lowest among these countries every year, with the exception in 2015, during which it has the highest rate.**"
   ]
  },
  {
   "cell_type": "markdown",
   "id": "1ac2372a-75e3-45a4-b3c5-a3fe0668d112",
   "metadata": {},
   "source": [
    "### Compare the inflation rate between different regions from 2010 to 2016 "
   ]
  },
  {
   "cell_type": "code",
   "execution_count": 16,
   "id": "ed7a77ea-589c-4acb-a58f-98924cc2dace",
   "metadata": {},
   "outputs": [
    {
     "data": {
      "text/html": [
       "<div>\n",
       "<style scoped>\n",
       "    .dataframe tbody tr th:only-of-type {\n",
       "        vertical-align: middle;\n",
       "    }\n",
       "\n",
       "    .dataframe tbody tr th {\n",
       "        vertical-align: top;\n",
       "    }\n",
       "\n",
       "    .dataframe thead th {\n",
       "        text-align: right;\n",
       "    }\n",
       "</style>\n",
       "<table border=\"1\" class=\"dataframe\">\n",
       "  <thead>\n",
       "    <tr style=\"text-align: right;\">\n",
       "      <th></th>\n",
       "      <th>Country_Region</th>\n",
       "      <th>Year</th>\n",
       "      <th>Inflation Rate</th>\n",
       "    </tr>\n",
       "  </thead>\n",
       "  <tbody>\n",
       "    <tr>\n",
       "      <th>201</th>\n",
       "      <td>East Asia &amp; Pacific</td>\n",
       "      <td>2010</td>\n",
       "      <td>3.161444</td>\n",
       "    </tr>\n",
       "    <tr>\n",
       "      <th>202</th>\n",
       "      <td>East Asia &amp; Pacific</td>\n",
       "      <td>2011</td>\n",
       "      <td>3.897921</td>\n",
       "    </tr>\n",
       "    <tr>\n",
       "      <th>203</th>\n",
       "      <td>East Asia &amp; Pacific</td>\n",
       "      <td>2012</td>\n",
       "      <td>2.392484</td>\n",
       "    </tr>\n",
       "    <tr>\n",
       "      <th>204</th>\n",
       "      <td>East Asia &amp; Pacific</td>\n",
       "      <td>2013</td>\n",
       "      <td>1.781058</td>\n",
       "    </tr>\n",
       "    <tr>\n",
       "      <th>205</th>\n",
       "      <td>East Asia &amp; Pacific</td>\n",
       "      <td>2014</td>\n",
       "      <td>1.858194</td>\n",
       "    </tr>\n",
       "    <tr>\n",
       "      <th>206</th>\n",
       "      <td>East Asia &amp; Pacific</td>\n",
       "      <td>2015</td>\n",
       "      <td>2.141344</td>\n",
       "    </tr>\n",
       "    <tr>\n",
       "      <th>207</th>\n",
       "      <td>East Asia &amp; Pacific</td>\n",
       "      <td>2016</td>\n",
       "      <td>2.187415</td>\n",
       "    </tr>\n",
       "    <tr>\n",
       "      <th>358</th>\n",
       "      <td>Europe &amp; Central Asia</td>\n",
       "      <td>2010</td>\n",
       "      <td>1.735884</td>\n",
       "    </tr>\n",
       "    <tr>\n",
       "      <th>359</th>\n",
       "      <td>Europe &amp; Central Asia</td>\n",
       "      <td>2011</td>\n",
       "      <td>2.568076</td>\n",
       "    </tr>\n",
       "    <tr>\n",
       "      <th>360</th>\n",
       "      <td>Europe &amp; Central Asia</td>\n",
       "      <td>2012</td>\n",
       "      <td>2.068571</td>\n",
       "    </tr>\n",
       "    <tr>\n",
       "      <th>361</th>\n",
       "      <td>Europe &amp; Central Asia</td>\n",
       "      <td>2013</td>\n",
       "      <td>1.646878</td>\n",
       "    </tr>\n",
       "    <tr>\n",
       "      <th>362</th>\n",
       "      <td>Europe &amp; Central Asia</td>\n",
       "      <td>2014</td>\n",
       "      <td>1.472050</td>\n",
       "    </tr>\n",
       "    <tr>\n",
       "      <th>363</th>\n",
       "      <td>Europe &amp; Central Asia</td>\n",
       "      <td>2015</td>\n",
       "      <td>1.246193</td>\n",
       "    </tr>\n",
       "    <tr>\n",
       "      <th>364</th>\n",
       "      <td>Europe &amp; Central Asia</td>\n",
       "      <td>2016</td>\n",
       "      <td>1.088852</td>\n",
       "    </tr>\n",
       "    <tr>\n",
       "      <th>964</th>\n",
       "      <td>Latin America &amp; Caribbean</td>\n",
       "      <td>2010</td>\n",
       "      <td>5.141873</td>\n",
       "    </tr>\n",
       "    <tr>\n",
       "      <th>965</th>\n",
       "      <td>Latin America &amp; Caribbean</td>\n",
       "      <td>2011</td>\n",
       "      <td>6.205060</td>\n",
       "    </tr>\n",
       "    <tr>\n",
       "      <th>966</th>\n",
       "      <td>Latin America &amp; Caribbean</td>\n",
       "      <td>2012</td>\n",
       "      <td>3.927637</td>\n",
       "    </tr>\n",
       "    <tr>\n",
       "      <th>967</th>\n",
       "      <td>Latin America &amp; Caribbean</td>\n",
       "      <td>2013</td>\n",
       "      <td>2.207513</td>\n",
       "    </tr>\n",
       "    <tr>\n",
       "      <th>968</th>\n",
       "      <td>Latin America &amp; Caribbean</td>\n",
       "      <td>2014</td>\n",
       "      <td>2.838618</td>\n",
       "    </tr>\n",
       "    <tr>\n",
       "      <th>969</th>\n",
       "      <td>Latin America &amp; Caribbean</td>\n",
       "      <td>2015</td>\n",
       "      <td>2.557709</td>\n",
       "    </tr>\n",
       "    <tr>\n",
       "      <th>970</th>\n",
       "      <td>Latin America &amp; Caribbean</td>\n",
       "      <td>2016</td>\n",
       "      <td>3.656492</td>\n",
       "    </tr>\n",
       "  </tbody>\n",
       "</table>\n",
       "</div>"
      ],
      "text/plain": [
       "                Country_Region  Year  Inflation Rate\n",
       "201        East Asia & Pacific  2010        3.161444\n",
       "202        East Asia & Pacific  2011        3.897921\n",
       "203        East Asia & Pacific  2012        2.392484\n",
       "204        East Asia & Pacific  2013        1.781058\n",
       "205        East Asia & Pacific  2014        1.858194\n",
       "206        East Asia & Pacific  2015        2.141344\n",
       "207        East Asia & Pacific  2016        2.187415\n",
       "358      Europe & Central Asia  2010        1.735884\n",
       "359      Europe & Central Asia  2011        2.568076\n",
       "360      Europe & Central Asia  2012        2.068571\n",
       "361      Europe & Central Asia  2013        1.646878\n",
       "362      Europe & Central Asia  2014        1.472050\n",
       "363      Europe & Central Asia  2015        1.246193\n",
       "364      Europe & Central Asia  2016        1.088852\n",
       "964  Latin America & Caribbean  2010        5.141873\n",
       "965  Latin America & Caribbean  2011        6.205060\n",
       "966  Latin America & Caribbean  2012        3.927637\n",
       "967  Latin America & Caribbean  2013        2.207513\n",
       "968  Latin America & Caribbean  2014        2.838618\n",
       "969  Latin America & Caribbean  2015        2.557709\n",
       "970  Latin America & Caribbean  2016        3.656492"
      ]
     },
     "execution_count": 16,
     "metadata": {},
     "output_type": "execute_result"
    }
   ],
   "source": [
    "data_compare = data.loc[((data['Country_Region'] == 'Europe & Central Asia') | (data['Country_Region'] == 'East Asia & Pacific') | (data['Country_Region'] == 'Latin America & Caribbean')) \n",
    "                       & (data['Year'] >= 2010)]\n",
    "data_compare"
   ]
  },
  {
   "cell_type": "code",
   "execution_count": 17,
   "id": "2a4f2d38-93fc-40b9-a750-a128afa65942",
   "metadata": {},
   "outputs": [
    {
     "data": {
      "text/plain": [
       "<AxesSubplot:xlabel='Year', ylabel='Inflation Rate'>"
      ]
     },
     "execution_count": 17,
     "metadata": {},
     "output_type": "execute_result"
    },
    {
     "data": {
      "image/png": "[encoded data removed]",
      "text/plain": [
       "<Figure size 432x288 with 1 Axes>"
      ]
     },
     "metadata": {
      "needs_background": "light"
     },
     "output_type": "display_data"
    }
   ],
   "source": [
    "sns.barplot(x='Year', y='Inflation Rate', data = data_compare, hue='Country_Region')"
   ]
  },
  {
   "cell_type": "markdown",
   "id": "5db6ce1a-e01a-4655-8921-ddb88b2642a4",
   "metadata": {},
   "source": [
    "**The inflation rate in these 3 regions generally decrease over the years from 2010 to 2016. Interestingly, for all the years, Europe & Central Asia has the lowest rate, followed by East Asia & Pacific, and then Latin America & Caribbean.**"
   ]
  },
  {
   "cell_type": "code",
   "execution_count": 18,
   "id": "d95ba3e8-6ecf-4786-8c5c-e9394fe633be",
   "metadata": {},
   "outputs": [
    {
     "data": {
      "text/html": [
       "<div>\n",
       "<style scoped>\n",
       "    .dataframe tbody tr th:only-of-type {\n",
       "        vertical-align: middle;\n",
       "    }\n",
       "\n",
       "    .dataframe tbody tr th {\n",
       "        vertical-align: top;\n",
       "    }\n",
       "\n",
       "    .dataframe thead th {\n",
       "        text-align: right;\n",
       "    }\n",
       "</style>\n",
       "<table border=\"1\" class=\"dataframe\">\n",
       "  <thead>\n",
       "    <tr style=\"text-align: right;\">\n",
       "      <th></th>\n",
       "      <th>Country_Region</th>\n",
       "      <th>Year</th>\n",
       "      <th>Inflation Rate</th>\n",
       "    </tr>\n",
       "  </thead>\n",
       "  <tbody>\n",
       "    <tr>\n",
       "      <th>9257</th>\n",
       "      <td>Singapore</td>\n",
       "      <td>2006</td>\n",
       "      <td>1.719984</td>\n",
       "    </tr>\n",
       "    <tr>\n",
       "      <th>9258</th>\n",
       "      <td>Singapore</td>\n",
       "      <td>2007</td>\n",
       "      <td>5.860994</td>\n",
       "    </tr>\n",
       "    <tr>\n",
       "      <th>9259</th>\n",
       "      <td>Singapore</td>\n",
       "      <td>2008</td>\n",
       "      <td>-1.491610</td>\n",
       "    </tr>\n",
       "    <tr>\n",
       "      <th>9260</th>\n",
       "      <td>Singapore</td>\n",
       "      <td>2009</td>\n",
       "      <td>3.521019</td>\n",
       "    </tr>\n",
       "    <tr>\n",
       "      <th>9261</th>\n",
       "      <td>Singapore</td>\n",
       "      <td>2010</td>\n",
       "      <td>-0.045988</td>\n",
       "    </tr>\n",
       "    <tr>\n",
       "      <th>9262</th>\n",
       "      <td>Singapore</td>\n",
       "      <td>2011</td>\n",
       "      <td>1.233200</td>\n",
       "    </tr>\n",
       "    <tr>\n",
       "      <th>9263</th>\n",
       "      <td>Singapore</td>\n",
       "      <td>2012</td>\n",
       "      <td>0.360074</td>\n",
       "    </tr>\n",
       "    <tr>\n",
       "      <th>9264</th>\n",
       "      <td>Singapore</td>\n",
       "      <td>2013</td>\n",
       "      <td>-0.239013</td>\n",
       "    </tr>\n",
       "    <tr>\n",
       "      <th>9265</th>\n",
       "      <td>Singapore</td>\n",
       "      <td>2014</td>\n",
       "      <td>-0.409653</td>\n",
       "    </tr>\n",
       "    <tr>\n",
       "      <th>9266</th>\n",
       "      <td>Singapore</td>\n",
       "      <td>2015</td>\n",
       "      <td>2.538471</td>\n",
       "    </tr>\n",
       "    <tr>\n",
       "      <th>9267</th>\n",
       "      <td>Singapore</td>\n",
       "      <td>2016</td>\n",
       "      <td>-1.434629</td>\n",
       "    </tr>\n",
       "  </tbody>\n",
       "</table>\n",
       "</div>"
      ],
      "text/plain": [
       "     Country_Region  Year  Inflation Rate\n",
       "9257      Singapore  2006        1.719984\n",
       "9258      Singapore  2007        5.860994\n",
       "9259      Singapore  2008       -1.491610\n",
       "9260      Singapore  2009        3.521019\n",
       "9261      Singapore  2010       -0.045988\n",
       "9262      Singapore  2011        1.233200\n",
       "9263      Singapore  2012        0.360074\n",
       "9264      Singapore  2013       -0.239013\n",
       "9265      Singapore  2014       -0.409653\n",
       "9266      Singapore  2015        2.538471\n",
       "9267      Singapore  2016       -1.434629"
      ]
     },
     "execution_count": 18,
     "metadata": {},
     "output_type": "execute_result"
    }
   ],
   "source": [
    "data_singapore = data.loc[(data['Country_Region'] == 'Singapore') & (data['Year'] >= 2006)]\n",
    "data_singapore\n",
    "\n",
    "                          "
   ]
  },
  {
   "cell_type": "code",
   "execution_count": 25,
   "id": "976e2669-a44d-4c1b-b2c1-e5ea0b4c57f1",
   "metadata": {},
   "outputs": [
    {
     "data": {
      "text/plain": [
       "<AxesSubplot:xlabel='Year', ylabel='Inflation Rate'>"
      ]
     },
     "execution_count": 25,
     "metadata": {},
     "output_type": "execute_result"
    },
    {
     "data": {
      "image/png": "[encoded data removed]",
      "text/plain": [
       "<Figure size 720x360 with 2 Axes>"
      ]
     },
     "metadata": {
      "needs_background": "light"
     },
     "output_type": "display_data"
    }
   ],
   "source": [
    "fig, axes = plt.subplots(1,2, figsize=(10,5))\n",
    "fig.suptitle('Inflation rate over the years in Singapore')\n",
    "sns.lineplot(ax = axes[0], x='Year', y='Inflation Rate', data = data_singapore, marker = 'o')\n",
    "sns.regplot(ax=axes[1], x='Year', y='Inflation Rate', data = data_singapore)"
   ]
  }
 ],
 "metadata": {
  "kernelspec": {
   "display_name": "Python 3 (ipykernel)",
   "language": "python",
   "name": "python3"
  },
  "language_info": {
   "codemirror_mode": {
    "name": "ipython",
    "version": 3
   },
   "file_extension": ".py",
   "mimetype": "text/x-python",
   "name": "python",
   "nbconvert_exporter": "python",
   "pygments_lexer": "ipython3",
   "version": "3.9.12"
  }
 },
 "nbformat": 4,
 "nbformat_minor": 5
}
